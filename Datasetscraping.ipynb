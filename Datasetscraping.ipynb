{
 "cells": [
  {
   "cell_type": "code",
   "execution_count": null,
   "id": "aeb7edaf",
   "metadata": {},
   "outputs": [],
   "source": [
    "!pip install praw"
   ]
  },
  {
   "cell_type": "code",
   "execution_count": null,
   "id": "1d0cab16",
   "metadata": {},
   "outputs": [],
   "source": []
  },
  {
   "cell_type": "code",
   "execution_count": null,
   "id": "dd8d0a94",
   "metadata": {},
   "outputs": [],
   "source": [
    "!pip install pprint"
   ]
  },
  {
   "cell_type": "code",
   "execution_count": null,
   "id": "8c1921a4",
   "metadata": {},
   "outputs": [],
   "source": [
    "!pip install seaborn"
   ]
  },
  {
   "cell_type": "code",
   "execution_count": 14,
   "id": "27e0d7e3",
   "metadata": {},
   "outputs": [],
   "source": [
    "import pandas as pd\n",
    "import numpy as np\n",
    "import matplotlib.pyplot as plt\n",
    "import seaborn as sns\n"
   ]
  },
  {
   "cell_type": "code",
   "execution_count": 16,
   "id": "24bff3fa",
   "metadata": {},
   "outputs": [],
   "source": [
    "from pprint import pprint"
   ]
  },
  {
   "cell_type": "code",
   "execution_count": 17,
   "id": "13af7c8f",
   "metadata": {},
   "outputs": [],
   "source": [
    "import praw"
   ]
  },
  {
   "cell_type": "code",
   "execution_count": 18,
   "id": "beb8559d",
   "metadata": {},
   "outputs": [],
   "source": [
    "user_agent=\"scraper 1.0 by/u/HumanEmbodimentOfCat\"\n",
    "reddit=praw.Reddit(\n",
    "client_id=\"hrArokiUZOpjfT0flOvzrQ\",\n",
    "client_secret=\"T_5q3mEZTpYXQSzZpt9_ni7rhFC4fQ\",\n",
    "user_agent=user_agent)"
   ]
  },
  {
   "cell_type": "code",
   "execution_count": 38,
   "id": "76132c9a",
   "metadata": {},
   "outputs": [],
   "source": [
    "d = {\"genre\":[],\"headlines\":[],\"year\":[],\"count_comments\":[],\"score\":[],\"upvote_ratio\":[],\"subreddit\":[]}"
   ]
  },
  {
   "cell_type": "code",
   "execution_count": 65,
   "id": "1a36b259",
   "metadata": {},
   "outputs": [
    {
     "name": "stdout",
     "output_type": "stream",
     "text": [
      "2000\n"
     ]
    }
   ],
   "source": [
    "#tp hot new rsing top\n",
    "for submission in reddit.subreddit('sports').top(limit=100):\n",
    "    d['subreddit'].append('r/sports')\n",
    "    d['genre'].append('sports')\n",
    "    d['headlines'].append(submission.title)\n",
    "    d['year'].append(submission.created_utc)\n",
    "    d['count_comments'].append(submission.num_comments)\n",
    "    d['score'].append(submission.score)\n",
    "    d['upvote_ratio'].append(submission.upvote_ratio)\n",
    "    \n",
    "print(len(d['genre']))    \n",
    "    \n",
    "    \n",
    "    "
   ]
  },
  {
   "cell_type": "code",
   "execution_count": null,
   "id": "2ad1ecc4",
   "metadata": {},
   "outputs": [],
   "source": []
  },
  {
   "cell_type": "code",
   "execution_count": 66,
   "id": "a6b579b2",
   "metadata": {},
   "outputs": [
    {
     "data": {
      "text/html": [
       "<div>\n",
       "<style scoped>\n",
       "    .dataframe tbody tr th:only-of-type {\n",
       "        vertical-align: middle;\n",
       "    }\n",
       "\n",
       "    .dataframe tbody tr th {\n",
       "        vertical-align: top;\n",
       "    }\n",
       "\n",
       "    .dataframe thead th {\n",
       "        text-align: right;\n",
       "    }\n",
       "</style>\n",
       "<table border=\"1\" class=\"dataframe\">\n",
       "  <thead>\n",
       "    <tr style=\"text-align: right;\">\n",
       "      <th></th>\n",
       "      <th>genre</th>\n",
       "      <th>headlines</th>\n",
       "      <th>year</th>\n",
       "      <th>count_comments</th>\n",
       "      <th>score</th>\n",
       "      <th>upvote_ratio</th>\n",
       "      <th>subreddit</th>\n",
       "    </tr>\n",
       "  </thead>\n",
       "  <tbody>\n",
       "    <tr>\n",
       "      <th>0</th>\n",
       "      <td>comedy</td>\n",
       "      <td>My cab driver tonight was so excited to share ...</td>\n",
       "      <td>1.514430e+09</td>\n",
       "      <td>2454</td>\n",
       "      <td>308577</td>\n",
       "      <td>0.97</td>\n",
       "      <td>r/funny</td>\n",
       "    </tr>\n",
       "    <tr>\n",
       "      <th>1</th>\n",
       "      <td>comedy</td>\n",
       "      <td>Guardians of the Front Page</td>\n",
       "      <td>1.480960e+09</td>\n",
       "      <td>4943</td>\n",
       "      <td>283998</td>\n",
       "      <td>0.97</td>\n",
       "      <td>r/funny</td>\n",
       "    </tr>\n",
       "    <tr>\n",
       "      <th>2</th>\n",
       "      <td>comedy</td>\n",
       "      <td>Gas station worker takes precautionary measure...</td>\n",
       "      <td>1.507061e+09</td>\n",
       "      <td>8683</td>\n",
       "      <td>263331</td>\n",
       "      <td>0.97</td>\n",
       "      <td>r/funny</td>\n",
       "    </tr>\n",
       "    <tr>\n",
       "      <th>3</th>\n",
       "      <td>comedy</td>\n",
       "      <td>The conversation my son and I will have on Chr...</td>\n",
       "      <td>1.513711e+09</td>\n",
       "      <td>4751</td>\n",
       "      <td>237032</td>\n",
       "      <td>0.94</td>\n",
       "      <td>r/funny</td>\n",
       "    </tr>\n",
       "    <tr>\n",
       "      <th>4</th>\n",
       "      <td>comedy</td>\n",
       "      <td>The Denver Broncos have the entire town of ‘So...</td>\n",
       "      <td>1.601232e+09</td>\n",
       "      <td>2799</td>\n",
       "      <td>226361</td>\n",
       "      <td>0.95</td>\n",
       "      <td>r/funny</td>\n",
       "    </tr>\n",
       "  </tbody>\n",
       "</table>\n",
       "</div>"
      ],
      "text/plain": [
       "    genre                                          headlines          year  \\\n",
       "0  comedy  My cab driver tonight was so excited to share ...  1.514430e+09   \n",
       "1  comedy                        Guardians of the Front Page  1.480960e+09   \n",
       "2  comedy  Gas station worker takes precautionary measure...  1.507061e+09   \n",
       "3  comedy  The conversation my son and I will have on Chr...  1.513711e+09   \n",
       "4  comedy  The Denver Broncos have the entire town of ‘So...  1.601232e+09   \n",
       "\n",
       "   count_comments   score  upvote_ratio subreddit  \n",
       "0            2454  308577          0.97   r/funny  \n",
       "1            4943  283998          0.97   r/funny  \n",
       "2            8683  263331          0.97   r/funny  \n",
       "3            4751  237032          0.94   r/funny  \n",
       "4            2799  226361          0.95   r/funny  "
      ]
     },
     "execution_count": 66,
     "metadata": {},
     "output_type": "execute_result"
    }
   ],
   "source": [
    "df=pd.DataFrame(d)\n",
    "df.head()"
   ]
  },
  {
   "cell_type": "code",
   "execution_count": 67,
   "id": "af1f450b",
   "metadata": {},
   "outputs": [
    {
     "data": {
      "text/html": [
       "<div>\n",
       "<style scoped>\n",
       "    .dataframe tbody tr th:only-of-type {\n",
       "        vertical-align: middle;\n",
       "    }\n",
       "\n",
       "    .dataframe tbody tr th {\n",
       "        vertical-align: top;\n",
       "    }\n",
       "\n",
       "    .dataframe thead th {\n",
       "        text-align: right;\n",
       "    }\n",
       "</style>\n",
       "<table border=\"1\" class=\"dataframe\">\n",
       "  <thead>\n",
       "    <tr style=\"text-align: right;\">\n",
       "      <th></th>\n",
       "      <th>genre</th>\n",
       "      <th>headlines</th>\n",
       "      <th>year</th>\n",
       "      <th>count_comments</th>\n",
       "      <th>score</th>\n",
       "      <th>upvote_ratio</th>\n",
       "      <th>subreddit</th>\n",
       "    </tr>\n",
       "  </thead>\n",
       "  <tbody>\n",
       "    <tr>\n",
       "      <th>0</th>\n",
       "      <td>comedy</td>\n",
       "      <td>My cab driver tonight was so excited to share ...</td>\n",
       "      <td>2017</td>\n",
       "      <td>2454</td>\n",
       "      <td>308577</td>\n",
       "      <td>0.97</td>\n",
       "      <td>r/funny</td>\n",
       "    </tr>\n",
       "    <tr>\n",
       "      <th>1</th>\n",
       "      <td>comedy</td>\n",
       "      <td>Guardians of the Front Page</td>\n",
       "      <td>2016</td>\n",
       "      <td>4943</td>\n",
       "      <td>283998</td>\n",
       "      <td>0.97</td>\n",
       "      <td>r/funny</td>\n",
       "    </tr>\n",
       "    <tr>\n",
       "      <th>2</th>\n",
       "      <td>comedy</td>\n",
       "      <td>Gas station worker takes precautionary measure...</td>\n",
       "      <td>2017</td>\n",
       "      <td>8683</td>\n",
       "      <td>263331</td>\n",
       "      <td>0.97</td>\n",
       "      <td>r/funny</td>\n",
       "    </tr>\n",
       "    <tr>\n",
       "      <th>3</th>\n",
       "      <td>comedy</td>\n",
       "      <td>The conversation my son and I will have on Chr...</td>\n",
       "      <td>2017</td>\n",
       "      <td>4751</td>\n",
       "      <td>237032</td>\n",
       "      <td>0.94</td>\n",
       "      <td>r/funny</td>\n",
       "    </tr>\n",
       "    <tr>\n",
       "      <th>4</th>\n",
       "      <td>comedy</td>\n",
       "      <td>The Denver Broncos have the entire town of ‘So...</td>\n",
       "      <td>2020</td>\n",
       "      <td>2799</td>\n",
       "      <td>226361</td>\n",
       "      <td>0.95</td>\n",
       "      <td>r/funny</td>\n",
       "    </tr>\n",
       "  </tbody>\n",
       "</table>\n",
       "</div>"
      ],
      "text/plain": [
       "    genre                                          headlines  year  \\\n",
       "0  comedy  My cab driver tonight was so excited to share ...  2017   \n",
       "1  comedy                        Guardians of the Front Page  2016   \n",
       "2  comedy  Gas station worker takes precautionary measure...  2017   \n",
       "3  comedy  The conversation my son and I will have on Chr...  2017   \n",
       "4  comedy  The Denver Broncos have the entire town of ‘So...  2020   \n",
       "\n",
       "   count_comments   score  upvote_ratio subreddit  \n",
       "0            2454  308577          0.97   r/funny  \n",
       "1            4943  283998          0.97   r/funny  \n",
       "2            8683  263331          0.97   r/funny  \n",
       "3            4751  237032          0.94   r/funny  \n",
       "4            2799  226361          0.95   r/funny  "
      ]
     },
     "execution_count": 67,
     "metadata": {},
     "output_type": "execute_result"
    }
   ],
   "source": [
    "df['year'] = pd.to_datetime(df['year'], unit='s').dt.year\n",
    "df.head()"
   ]
  },
  {
   "cell_type": "code",
   "execution_count": 68,
   "id": "8d7017b9",
   "metadata": {},
   "outputs": [],
   "source": [
    "\n",
    "df['headlines'].replace('', np.nan, inplace=True)\n",
    "df = df.dropna(subset=['headlines'])\n",
    "df = df.reset_index(drop=True)\n",
    "\n"
   ]
  },
  {
   "cell_type": "code",
   "execution_count": 69,
   "id": "bff11793",
   "metadata": {},
   "outputs": [],
   "source": [
    "\n",
    "excel_file_name = r\"C:\\Users\\shiya\\OneDrive\\Desktop\\convoproject\\finaldataset.xlsx\"\n",
    "df.to_excel(excel_file_name, index=False)"
   ]
  },
  {
   "cell_type": "code",
   "execution_count": 72,
   "id": "720725b2",
   "metadata": {},
   "outputs": [
    {
     "name": "stdout",
     "output_type": "stream",
     "text": [
      "2000\n"
     ]
    }
   ],
   "source": [
    "excel_file_name = r\"C:\\Users\\shiya\\OneDrive\\Desktop\\convoproject\\finaldataset.xlsx\"\n",
    "existing_df = pd.read_excel(excel_file_name)\n",
    "print(len(existing_df['headlines']))"
   ]
  }
 ],
 "metadata": {
  "kernelspec": {
   "display_name": "Python 3 (ipykernel)",
   "language": "python",
   "name": "python3"
  },
  "language_info": {
   "codemirror_mode": {
    "name": "ipython",
    "version": 3
   },
   "file_extension": ".py",
   "mimetype": "text/x-python",
   "name": "python",
   "nbconvert_exporter": "python",
   "pygments_lexer": "ipython3",
   "version": "3.11.5"
  }
 },
 "nbformat": 4,
 "nbformat_minor": 5
}
